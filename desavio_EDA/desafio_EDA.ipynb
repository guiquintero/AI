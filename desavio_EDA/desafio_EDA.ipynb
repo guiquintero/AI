{
 "cells": [
  {
   "cell_type": "code",
   "execution_count": 28,
   "metadata": {},
   "outputs": [],
   "source": [
    "import pandas as pd\n",
    "\n",
    "#carregando dados da Netflix\n",
    "df_netflix = pd.read_csv('./netflix_daily_top_10.csv')"
   ]
  },
  {
   "cell_type": "code",
   "execution_count": 29,
   "metadata": {},
   "outputs": [
    {
     "data": {
      "text/html": [
       "<div>\n",
       "<style scoped>\n",
       "    .dataframe tbody tr th:only-of-type {\n",
       "        vertical-align: middle;\n",
       "    }\n",
       "\n",
       "    .dataframe tbody tr th {\n",
       "        vertical-align: top;\n",
       "    }\n",
       "\n",
       "    .dataframe thead th {\n",
       "        text-align: right;\n",
       "    }\n",
       "</style>\n",
       "<table border=\"1\" class=\"dataframe\">\n",
       "  <thead>\n",
       "    <tr style=\"text-align: right;\">\n",
       "      <th></th>\n",
       "      <th>As of</th>\n",
       "      <th>Rank</th>\n",
       "      <th>Year to Date Rank</th>\n",
       "      <th>Last Week Rank</th>\n",
       "      <th>Title</th>\n",
       "      <th>Type</th>\n",
       "      <th>Netflix Exclusive</th>\n",
       "      <th>Netflix Release Date</th>\n",
       "      <th>Days In Top 10</th>\n",
       "      <th>Viewership Score</th>\n",
       "    </tr>\n",
       "  </thead>\n",
       "  <tbody>\n",
       "    <tr>\n",
       "      <th>0</th>\n",
       "      <td>2020-04-01</td>\n",
       "      <td>1</td>\n",
       "      <td>1</td>\n",
       "      <td>1</td>\n",
       "      <td>Tiger King: Murder, Mayhem …</td>\n",
       "      <td>TV Show</td>\n",
       "      <td>Yes</td>\n",
       "      <td>Mar 20, 2020</td>\n",
       "      <td>9</td>\n",
       "      <td>90</td>\n",
       "    </tr>\n",
       "    <tr>\n",
       "      <th>1</th>\n",
       "      <td>2020-04-01</td>\n",
       "      <td>2</td>\n",
       "      <td>2</td>\n",
       "      <td>-</td>\n",
       "      <td>Ozark</td>\n",
       "      <td>TV Show</td>\n",
       "      <td>Yes</td>\n",
       "      <td>Jul 21, 2017</td>\n",
       "      <td>5</td>\n",
       "      <td>45</td>\n",
       "    </tr>\n",
       "    <tr>\n",
       "      <th>2</th>\n",
       "      <td>2020-04-01</td>\n",
       "      <td>3</td>\n",
       "      <td>3</td>\n",
       "      <td>2</td>\n",
       "      <td>All American</td>\n",
       "      <td>TV Show</td>\n",
       "      <td>NaN</td>\n",
       "      <td>Mar 28, 2019</td>\n",
       "      <td>9</td>\n",
       "      <td>76</td>\n",
       "    </tr>\n",
       "    <tr>\n",
       "      <th>3</th>\n",
       "      <td>2020-04-01</td>\n",
       "      <td>4</td>\n",
       "      <td>4</td>\n",
       "      <td>-</td>\n",
       "      <td>Blood Father</td>\n",
       "      <td>Movie</td>\n",
       "      <td>NaN</td>\n",
       "      <td>Mar 26, 2020</td>\n",
       "      <td>5</td>\n",
       "      <td>30</td>\n",
       "    </tr>\n",
       "    <tr>\n",
       "      <th>4</th>\n",
       "      <td>2020-04-01</td>\n",
       "      <td>5</td>\n",
       "      <td>5</td>\n",
       "      <td>4</td>\n",
       "      <td>The Platform</td>\n",
       "      <td>Movie</td>\n",
       "      <td>Yes</td>\n",
       "      <td>Mar 20, 2020</td>\n",
       "      <td>9</td>\n",
       "      <td>55</td>\n",
       "    </tr>\n",
       "  </tbody>\n",
       "</table>\n",
       "</div>"
      ],
      "text/plain": [
       "        As of  Rank Year to Date Rank Last Week Rank  \\\n",
       "0  2020-04-01     1                 1              1   \n",
       "1  2020-04-01     2                 2              -   \n",
       "2  2020-04-01     3                 3              2   \n",
       "3  2020-04-01     4                 4              -   \n",
       "4  2020-04-01     5                 5              4   \n",
       "\n",
       "                          Title     Type Netflix Exclusive  \\\n",
       "0  Tiger King: Murder, Mayhem …  TV Show               Yes   \n",
       "1                         Ozark  TV Show               Yes   \n",
       "2                  All American  TV Show               NaN   \n",
       "3                  Blood Father    Movie               NaN   \n",
       "4                  The Platform    Movie               Yes   \n",
       "\n",
       "  Netflix Release Date  Days In Top 10  Viewership Score  \n",
       "0         Mar 20, 2020               9                90  \n",
       "1         Jul 21, 2017               5                45  \n",
       "2         Mar 28, 2019               9                76  \n",
       "3         Mar 26, 2020               5                30  \n",
       "4         Mar 20, 2020               9                55  "
      ]
     },
     "execution_count": 29,
     "metadata": {},
     "output_type": "execute_result"
    }
   ],
   "source": [
    "df_netflix.head(5)"
   ]
  },
  {
   "cell_type": "code",
   "execution_count": 30,
   "metadata": {},
   "outputs": [
    {
     "name": "stdout",
     "output_type": "stream",
     "text": [
      "<class 'pandas.core.frame.DataFrame'>\n",
      "RangeIndex: 7100 entries, 0 to 7099\n",
      "Data columns (total 10 columns):\n",
      " #   Column                Non-Null Count  Dtype \n",
      "---  ------                --------------  ----- \n",
      " 0   As of                 7100 non-null   object\n",
      " 1   Rank                  7100 non-null   int64 \n",
      " 2   Year to Date Rank     7100 non-null   object\n",
      " 3   Last Week Rank        7100 non-null   object\n",
      " 4   Title                 7100 non-null   object\n",
      " 5   Type                  7100 non-null   object\n",
      " 6   Netflix Exclusive     4599 non-null   object\n",
      " 7   Netflix Release Date  7100 non-null   object\n",
      " 8   Days In Top 10        7100 non-null   int64 \n",
      " 9   Viewership Score      7100 non-null   int64 \n",
      "dtypes: int64(3), object(7)\n",
      "memory usage: 554.8+ KB\n"
     ]
    }
   ],
   "source": [
    "df_netflix.info()"
   ]
  },
  {
   "cell_type": "markdown",
   "metadata": {},
   "source": [
    "# RENOMEANDO COLUNAS"
   ]
  },
  {
   "cell_type": "code",
   "execution_count": 31,
   "metadata": {},
   "outputs": [],
   "source": [
    "# Renomeando colunas\n",
    "df_netflix.rename(columns={'As of': 'As_of', 'Year to Date Rank': 'Year_to_Date_Rank', 'Last Week Rank': 'Last_Week_Rank', 'Netflix Exclusive': 'Netflix_Exclusive', 'Netflix Release Date': 'Netflix_Release_Date', 'Days In Top 10': 'Days_In_Top_10', 'Viewership Score': 'Viewership_Score'}, inplace=True)"
   ]
  },
  {
   "cell_type": "code",
   "execution_count": 32,
   "metadata": {},
   "outputs": [
    {
     "name": "stdout",
     "output_type": "stream",
     "text": [
      "<class 'pandas.core.frame.DataFrame'>\n",
      "RangeIndex: 7100 entries, 0 to 7099\n",
      "Data columns (total 10 columns):\n",
      " #   Column                Non-Null Count  Dtype \n",
      "---  ------                --------------  ----- \n",
      " 0   As_of                 7100 non-null   object\n",
      " 1   Rank                  7100 non-null   int64 \n",
      " 2   Year_to_Date_Rank     7100 non-null   object\n",
      " 3   Last_Week_Rank        7100 non-null   object\n",
      " 4   Title                 7100 non-null   object\n",
      " 5   Type                  7100 non-null   object\n",
      " 6   Netflix_Exclusive     4599 non-null   object\n",
      " 7   Netflix_Release_Date  7100 non-null   object\n",
      " 8   Days_In_Top_10        7100 non-null   int64 \n",
      " 9   Viewership_Score      7100 non-null   int64 \n",
      "dtypes: int64(3), object(7)\n",
      "memory usage: 554.8+ KB\n"
     ]
    }
   ],
   "source": [
    "df_netflix.info()"
   ]
  },
  {
   "cell_type": "markdown",
   "metadata": {},
   "source": [
    "# Transformar a coluna "
   ]
  },
  {
   "cell_type": "code",
   "execution_count": 33,
   "metadata": {},
   "outputs": [
    {
     "name": "stdout",
     "output_type": "stream",
     "text": [
      "<class 'pandas.core.frame.DataFrame'>\n",
      "RangeIndex: 7100 entries, 0 to 7099\n",
      "Data columns (total 10 columns):\n",
      " #   Column                Non-Null Count  Dtype         \n",
      "---  ------                --------------  -----         \n",
      " 0   As_of                 7100 non-null   object        \n",
      " 1   Rank                  7100 non-null   int64         \n",
      " 2   Year_to_Date_Rank     6241 non-null   Int64         \n",
      " 3   Last_Week_Rank        3132 non-null   Int64         \n",
      " 4   Title                 7100 non-null   object        \n",
      " 5   Type                  7100 non-null   object        \n",
      " 6   Netflix_Exclusive     4599 non-null   object        \n",
      " 7   Netflix_Release_Date  7100 non-null   datetime64[ns]\n",
      " 8   Days_In_Top_10        7100 non-null   int64         \n",
      " 9   Viewership_Score      7100 non-null   int64         \n",
      "dtypes: Int64(2), datetime64[ns](1), int64(3), object(4)\n",
      "memory usage: 568.7+ KB\n"
     ]
    }
   ],
   "source": [
    "# Transformar a coluna \n",
    "# df_netflix.As_of = pd.to_datetime(df_netflix.As_of, errors='coerce')\n",
    "df_netflix.Year_to_Date_Rank = pd.to_numeric(df_netflix.Year_to_Date_Rank, errors='coerce').astype('Int64')\n",
    "df_netflix.Last_Week_Rank = pd.to_numeric(df_netflix.Last_Week_Rank, errors='coerce').astype('Int64')\n",
    "df_netflix.Netflix_Release_Date = pd.to_datetime(df_netflix.Netflix_Release_Date, format='%b %d, %Y', errors='coerce')\n",
    "\n",
    "#Verificando se mudou o TotalCharges mudou para float\n",
    "df_netflix.info()"
   ]
  },
  {
   "cell_type": "code",
   "execution_count": 34,
   "metadata": {},
   "outputs": [
    {
     "data": {
      "text/html": [
       "<div>\n",
       "<style scoped>\n",
       "    .dataframe tbody tr th:only-of-type {\n",
       "        vertical-align: middle;\n",
       "    }\n",
       "\n",
       "    .dataframe tbody tr th {\n",
       "        vertical-align: top;\n",
       "    }\n",
       "\n",
       "    .dataframe thead th {\n",
       "        text-align: right;\n",
       "    }\n",
       "</style>\n",
       "<table border=\"1\" class=\"dataframe\">\n",
       "  <thead>\n",
       "    <tr style=\"text-align: right;\">\n",
       "      <th></th>\n",
       "      <th>As_of</th>\n",
       "      <th>Rank</th>\n",
       "      <th>Year_to_Date_Rank</th>\n",
       "      <th>Last_Week_Rank</th>\n",
       "      <th>Title</th>\n",
       "      <th>Type</th>\n",
       "      <th>Netflix_Exclusive</th>\n",
       "      <th>Netflix_Release_Date</th>\n",
       "      <th>Days_In_Top_10</th>\n",
       "      <th>Viewership_Score</th>\n",
       "    </tr>\n",
       "  </thead>\n",
       "  <tbody>\n",
       "    <tr>\n",
       "      <th>0</th>\n",
       "      <td>2020-04-01</td>\n",
       "      <td>1</td>\n",
       "      <td>1</td>\n",
       "      <td>1</td>\n",
       "      <td>Tiger King: Murder, Mayhem …</td>\n",
       "      <td>TV Show</td>\n",
       "      <td>Yes</td>\n",
       "      <td>2020-03-20</td>\n",
       "      <td>9</td>\n",
       "      <td>90</td>\n",
       "    </tr>\n",
       "    <tr>\n",
       "      <th>1</th>\n",
       "      <td>2020-04-01</td>\n",
       "      <td>2</td>\n",
       "      <td>2</td>\n",
       "      <td>&lt;NA&gt;</td>\n",
       "      <td>Ozark</td>\n",
       "      <td>TV Show</td>\n",
       "      <td>Yes</td>\n",
       "      <td>2017-07-21</td>\n",
       "      <td>5</td>\n",
       "      <td>45</td>\n",
       "    </tr>\n",
       "    <tr>\n",
       "      <th>2</th>\n",
       "      <td>2020-04-01</td>\n",
       "      <td>3</td>\n",
       "      <td>3</td>\n",
       "      <td>2</td>\n",
       "      <td>All American</td>\n",
       "      <td>TV Show</td>\n",
       "      <td>NaN</td>\n",
       "      <td>2019-03-28</td>\n",
       "      <td>9</td>\n",
       "      <td>76</td>\n",
       "    </tr>\n",
       "    <tr>\n",
       "      <th>3</th>\n",
       "      <td>2020-04-01</td>\n",
       "      <td>4</td>\n",
       "      <td>4</td>\n",
       "      <td>&lt;NA&gt;</td>\n",
       "      <td>Blood Father</td>\n",
       "      <td>Movie</td>\n",
       "      <td>NaN</td>\n",
       "      <td>2020-03-26</td>\n",
       "      <td>5</td>\n",
       "      <td>30</td>\n",
       "    </tr>\n",
       "    <tr>\n",
       "      <th>4</th>\n",
       "      <td>2020-04-01</td>\n",
       "      <td>5</td>\n",
       "      <td>5</td>\n",
       "      <td>4</td>\n",
       "      <td>The Platform</td>\n",
       "      <td>Movie</td>\n",
       "      <td>Yes</td>\n",
       "      <td>2020-03-20</td>\n",
       "      <td>9</td>\n",
       "      <td>55</td>\n",
       "    </tr>\n",
       "  </tbody>\n",
       "</table>\n",
       "</div>"
      ],
      "text/plain": [
       "        As_of  Rank  Year_to_Date_Rank  Last_Week_Rank  \\\n",
       "0  2020-04-01     1                  1               1   \n",
       "1  2020-04-01     2                  2            <NA>   \n",
       "2  2020-04-01     3                  3               2   \n",
       "3  2020-04-01     4                  4            <NA>   \n",
       "4  2020-04-01     5                  5               4   \n",
       "\n",
       "                          Title     Type Netflix_Exclusive  \\\n",
       "0  Tiger King: Murder, Mayhem …  TV Show               Yes   \n",
       "1                         Ozark  TV Show               Yes   \n",
       "2                  All American  TV Show               NaN   \n",
       "3                  Blood Father    Movie               NaN   \n",
       "4                  The Platform    Movie               Yes   \n",
       "\n",
       "  Netflix_Release_Date  Days_In_Top_10  Viewership_Score  \n",
       "0           2020-03-20               9                90  \n",
       "1           2017-07-21               5                45  \n",
       "2           2019-03-28               9                76  \n",
       "3           2020-03-26               5                30  \n",
       "4           2020-03-20               9                55  "
      ]
     },
     "execution_count": 34,
     "metadata": {},
     "output_type": "execute_result"
    }
   ],
   "source": [
    "df_netflix.head(5)"
   ]
  },
  {
   "cell_type": "code",
   "execution_count": 35,
   "metadata": {},
   "outputs": [
    {
     "name": "stderr",
     "output_type": "stream",
     "text": [
      "/tmp/ipykernel_90038/1325429047.py:2: FutureWarning: A value is trying to be set on a copy of a DataFrame or Series through chained assignment using an inplace method.\n",
      "The behavior will change in pandas 3.0. This inplace method will never work because the intermediate object on which we are setting values always behaves as a copy.\n",
      "\n",
      "For example, when doing 'df[col].method(value, inplace=True)', try using 'df.method({col: value}, inplace=True)' or df[col] = df[col].method(value) instead, to perform the operation inplace on the original object.\n",
      "\n",
      "\n",
      "  df_netflix.Netflix_Exclusive.fillna('No', inplace=True)\n"
     ]
    }
   ],
   "source": [
    "# Converte os valores nulos para no, pois é o oposto de yes\n",
    "df_netflix.Netflix_Exclusive.fillna('No', inplace=True)"
   ]
  },
  {
   "cell_type": "markdown",
   "metadata": {},
   "source": [
    "# Verifica valores nulos"
   ]
  },
  {
   "cell_type": "code",
   "execution_count": 41,
   "metadata": {},
   "outputs": [
    {
     "data": {
      "text/plain": [
       "As_of                      0\n",
       "Rank                       0\n",
       "Year_to_Date_Rank        859\n",
       "Last_Week_Rank          3968\n",
       "Title                      0\n",
       "Type                       0\n",
       "Netflix_Exclusive          0\n",
       "Netflix_Release_Date       0\n",
       "Days_In_Top_10             0\n",
       "Viewership_Score           0\n",
       "dtype: int64"
      ]
     },
     "execution_count": 41,
     "metadata": {},
     "output_type": "execute_result"
    }
   ],
   "source": [
    "# detectando para todas as colunas\n",
    "df_netflix.isna().sum()"
   ]
  },
  {
   "cell_type": "markdown",
   "metadata": {},
   "source": [
    "# Tamanho da base"
   ]
  },
  {
   "cell_type": "code",
   "execution_count": 37,
   "metadata": {},
   "outputs": [
    {
     "data": {
      "text/plain": [
       "(7100, 10)"
      ]
     },
     "execution_count": 37,
     "metadata": {},
     "output_type": "execute_result"
    }
   ],
   "source": [
    "df_netflix.shape"
   ]
  },
  {
   "cell_type": "markdown",
   "metadata": {},
   "source": [
    "# Periodo da análise"
   ]
  },
  {
   "cell_type": "code",
   "execution_count": null,
   "metadata": {},
   "outputs": [
    {
     "name": "stdout",
     "output_type": "stream",
     "text": [
      "A análise foi de 2020-04-01 até 2022-03-11\n"
     ]
    }
   ],
   "source": [
    "max_date = df_netflix.As_of.max()\n",
    "min_date = df_netflix.As_of.min()\n",
    "print(\"A análise foi de \"+min_date+\" até \"+max_date)"
   ]
  },
  {
   "cell_type": "markdown",
   "metadata": {},
   "source": [
    "# Outliers"
   ]
  },
  {
   "cell_type": "code",
   "execution_count": 44,
   "metadata": {},
   "outputs": [
    {
     "data": {
      "text/plain": [
       "Rank                    Axes(0.125,0.11;0.133621x0.77)\n",
       "Year_to_Date_Rank    Axes(0.285345,0.11;0.133621x0.77)\n",
       "Last_Week_Rank        Axes(0.44569,0.11;0.133621x0.77)\n",
       "Days_In_Top_10       Axes(0.606034,0.11;0.133621x0.77)\n",
       "Viewership_Score     Axes(0.766379,0.11;0.133621x0.77)\n",
       "dtype: object"
      ]
     },
     "execution_count": 44,
     "metadata": {},
     "output_type": "execute_result"
    },
    {
     "data": {
      "image/png": "[encoded data removed]",
      "text/plain": [
       "<Figure size 1000x600 with 5 Axes>"
      ]
     },
     "metadata": {},
     "output_type": "display_data"
    }
   ],
   "source": [
    "df_netflix.plot(kind='box', figsize=(10,6), subplots=True)"
   ]
  },
  {
   "cell_type": "code",
   "execution_count": 45,
   "metadata": {},
   "outputs": [
    {
     "name": "stdout",
     "output_type": "stream",
     "text": [
      "Outliers na coluna Days_In_Top_10 :\n",
      "           As_of  Rank  Year_to_Date_Rank  Last_Week_Rank          Title  \\\n",
      "438   2020-05-14     9                  9            <NA>          Ozark   \n",
      "447   2020-05-15     8                  9              10          Ozark   \n",
      "458   2020-05-16     9                  8            <NA>          Ozark   \n",
      "489   2020-05-19    10               <NA>               7          Ozark   \n",
      "629   2020-06-02    10               <NA>            <NA>    Outer Banks   \n",
      "...          ...   ...                ...             ...            ...   \n",
      "7053  2022-03-07     4                  3               4  Love is Blind   \n",
      "7063  2022-03-08     4                  4               4  Love is Blind   \n",
      "7074  2022-03-09     5                  4               5  Love is Blind   \n",
      "7085  2022-03-10     6                  5               5  Love is Blind   \n",
      "7094  2022-03-11     5                  6               6  Love is Blind   \n",
      "\n",
      "         Type Netflix_Exclusive Netflix_Release_Date  Days_In_Top_10  \\\n",
      "438   TV Show               Yes           2017-07-21              41   \n",
      "447   TV Show               Yes           2017-07-21              42   \n",
      "458   TV Show               Yes           2017-07-21              43   \n",
      "489   TV Show               Yes           2017-07-21              44   \n",
      "629   TV Show               Yes           2020-04-15              41   \n",
      "...       ...               ...                  ...             ...   \n",
      "7053  TV Show               Yes           2020-02-13              42   \n",
      "7063  TV Show               Yes           2020-02-13              43   \n",
      "7074  TV Show               Yes           2020-02-13              44   \n",
      "7085  TV Show               Yes           2020-02-13              45   \n",
      "7094  TV Show               Yes           2020-02-13              46   \n",
      "\n",
      "      Viewership_Score  \n",
      "438                256  \n",
      "447                259  \n",
      "458                261  \n",
      "489                262  \n",
      "629                291  \n",
      "...                ...  \n",
      "7053               288  \n",
      "7063               295  \n",
      "7074               301  \n",
      "7085               306  \n",
      "7094               312  \n",
      "\n",
      "[743 rows x 10 columns]\n",
      "\n",
      "Outliers na coluna Viewership_Score:\n",
      "           As_of  Rank  Year_to_Date_Rank  Last_Week_Rank  \\\n",
      "236   2020-04-24     7                  7               2   \n",
      "247   2020-04-25     8                  7               2   \n",
      "255   2020-04-26     6                  8               3   \n",
      "269   2020-04-27    10                  6               4   \n",
      "2382  2020-11-25     3                  2               3   \n",
      "...          ...   ...                ...             ...   \n",
      "7008  2022-03-02     9                  6               3   \n",
      "7063  2022-03-08     4                  4               4   \n",
      "7074  2022-03-09     5                  4               5   \n",
      "7085  2022-03-10     6                  5               5   \n",
      "7094  2022-03-11     5                  6               6   \n",
      "\n",
      "                             Title     Type Netflix_Exclusive  \\\n",
      "236   Tiger King: Murder, Mayhem …  TV Show               Yes   \n",
      "247   Tiger King: Murder, Mayhem …  TV Show               Yes   \n",
      "255   Tiger King: Murder, Mayhem …  TV Show               Yes   \n",
      "269   Tiger King: Murder, Mayhem …  TV Show               Yes   \n",
      "2382          The Queenâs Gambit  TV Show               Yes   \n",
      "...                            ...      ...               ...   \n",
      "7008               Sweet Magnolias  TV Show               Yes   \n",
      "7063                 Love is Blind  TV Show               Yes   \n",
      "7074                 Love is Blind  TV Show               Yes   \n",
      "7085                 Love is Blind  TV Show               Yes   \n",
      "7094                 Love is Blind  TV Show               Yes   \n",
      "\n",
      "     Netflix_Release_Date  Days_In_Top_10  Viewership_Score  \n",
      "236            2020-03-20              32               292  \n",
      "247            2020-03-20              33               295  \n",
      "255            2020-03-20              34               300  \n",
      "269            2020-03-20              35               301  \n",
      "2382           2020-10-23              33               296  \n",
      "...                   ...             ...               ...  \n",
      "7008           2020-05-19              45               344  \n",
      "7063           2020-02-13              43               295  \n",
      "7074           2020-02-13              44               301  \n",
      "7085           2020-02-13              45               306  \n",
      "7094           2020-02-13              46               312  \n",
      "\n",
      "[698 rows x 10 columns]\n",
      "\n"
     ]
    }
   ],
   "source": [
    "#Calcular Q1 (25º percentil) e Q3 (75º percentil)\n",
    "Q1_Days_In_Top_10 = df_netflix.Days_In_Top_10.quantile(0.25)\n",
    "Q3_Days_In_Top_10= df_netflix.Days_In_Top_10.quantile(0.75)\n",
    "\n",
    "Q1_Viewership_Score = df_netflix.Viewership_Score.quantile(0.25)\n",
    "Q3_Viewership_Score = df_netflix.Viewership_Score.quantile(0.75)\n",
    "\n",
    "# Calcular IQR (Intervalo Interquartil)\n",
    "IQR_Days_In_Top_10 = Q3_Days_In_Top_10 - Q1_Days_In_Top_10\n",
    "\n",
    "IQR_Viewership_Score = Q3_Viewership_Score - Q1_Viewership_Score\n",
    "\n",
    "# Determinar os limites para identificar outliers\n",
    "limite_inferior_Days_In_Top_10 = Q1_Days_In_Top_10 - 1.5 * IQR_Days_In_Top_10\n",
    "limite_superior_Days_In_Top_10 = Q3_Days_In_Top_10 + 1.5 * IQR_Days_In_Top_10\n",
    "\n",
    "limite_inferior_Viewership_Score = Q1_Viewership_Score - 1.5 * IQR_Viewership_Score\n",
    "limite_superior_Viewership_Score = Q3_Viewership_Score + 1.5 * IQR_Viewership_Score\n",
    "\n",
    "# Identificar os outliers\n",
    "outliers_Days_In_Top_10 = df_netflix[(df_netflix.Days_In_Top_10 < limite_inferior_Days_In_Top_10) | (df_netflix.Days_In_Top_10 > limite_superior_Days_In_Top_10)]\n",
    "\n",
    "outliers_Viewership_Score = df_netflix[(df_netflix.Viewership_Score < limite_inferior_Viewership_Score) | (df_netflix.Viewership_Score > limite_superior_Viewership_Score)]\n",
    "\n",
    "print(f\"Outliers na coluna Days_In_Top_10 :\\n{outliers_Days_In_Top_10}\\n\")\n",
    "print(f\"Outliers na coluna Viewership_Score:\\n{outliers_Viewership_Score}\\n\")"
   ]
  }
 ],
 "metadata": {
  "kernelspec": {
   "display_name": "myenv39",
   "language": "python",
   "name": "python3"
  },
  "language_info": {
   "codemirror_mode": {
    "name": "ipython",
    "version": 3
   },
   "file_extension": ".py",
   "mimetype": "text/x-python",
   "name": "python",
   "nbconvert_exporter": "python",
   "pygments_lexer": "ipython3",
   "version": "3.9.20"
  }
 },
 "nbformat": 4,
 "nbformat_minor": 2
}
